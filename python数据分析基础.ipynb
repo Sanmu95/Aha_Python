{
 "cells": [
  {
   "cell_type": "markdown",
   "metadata": {},
   "source": [
    "# 一、python编程：从入门到实践"
   ]
  },
  {
   "cell_type": "markdown",
   "metadata": {},
   "source": [
    "## 第一部分 基础知识"
   ]
  },
  {
   "cell_type": "markdown",
   "metadata": {},
   "source": [
    "### 第一章 起步"
   ]
  },
  {
   "cell_type": "markdown",
   "metadata": {},
   "source": [
    "安装Anaconda\n",
    "\n",
    "官网：https://www.anaconda.com/"
   ]
  },
  {
   "cell_type": "markdown",
   "metadata": {},
   "source": [
    "### 第二章 变量和简单数据类型"
   ]
  },
  {
   "cell_type": "code",
   "execution_count": 1,
   "metadata": {},
   "outputs": [
    {
     "name": "stdout",
     "output_type": "stream",
     "text": [
      "hello,world\n"
     ]
    }
   ],
   "source": [
    "#2-1\n",
    "a = 'hello,world'\n",
    "print(a)"
   ]
  },
  {
   "cell_type": "code",
   "execution_count": 2,
   "metadata": {},
   "outputs": [
    {
     "name": "stdout",
     "output_type": "stream",
     "text": [
      "hello,world\n",
      "hello,python\n"
     ]
    }
   ],
   "source": [
    "#2-2\n",
    "b = 'hello,world'\n",
    "print(b)\n",
    "b = 'hello,python'\n",
    "print(b)"
   ]
  },
  {
   "cell_type": "code",
   "execution_count": 3,
   "metadata": {},
   "outputs": [
    {
     "name": "stdout",
     "output_type": "stream",
     "text": [
      "hello Frank! How are you?\n"
     ]
    }
   ],
   "source": [
    "#2-3\n",
    "c = 'Frank'\n",
    "print('hello '+c+'! How are you?')"
   ]
  },
  {
   "cell_type": "code",
   "execution_count": 4,
   "metadata": {},
   "outputs": [
    {
     "name": "stdout",
     "output_type": "stream",
     "text": [
      "ALEX\n",
      "alex\n",
      "Alex\n"
     ]
    }
   ],
   "source": [
    "#2-4\n",
    "d = 'Alex'\n",
    "print(d.upper())\n",
    "print(d.lower())\n",
    "print(d.title())"
   ]
  },
  {
   "cell_type": "code",
   "execution_count": 5,
   "metadata": {},
   "outputs": [
    {
     "name": "stdout",
     "output_type": "stream",
     "text": [
      "Einstein once said,\"A person who never made a mistake never tried anything new.\"\n"
     ]
    }
   ],
   "source": [
    "#2-5\n",
    "e = 'Einstein'\n",
    "f = '\"A person who never made a mistake never tried anything new.\"'\n",
    "print(e+' once said,'+f)"
   ]
  },
  {
   "cell_type": "code",
   "execution_count": 6,
   "metadata": {},
   "outputs": [
    {
     "name": "stdout",
     "output_type": "stream",
     "text": [
      "Einstein once said,\"A person who never made a mistake never tried anything new.\"\n"
     ]
    }
   ],
   "source": [
    "#2-6\n",
    "e = 'Einstein'\n",
    "f = '\"A person who never made a mistake never tried anything new.\"'\n",
    "print(e+' once said,'+f)"
   ]
  },
  {
   "cell_type": "code",
   "execution_count": 7,
   "metadata": {},
   "outputs": [
    {
     "name": "stdout",
     "output_type": "stream",
     "text": [
      "1 \n",
      "\tBob\t\n",
      "\n",
      "\n",
      "2 Bob\n",
      "3 \n",
      "\tBob\n",
      "4 Bob\t\n",
      "\n",
      "\n"
     ]
    }
   ],
   "source": [
    "#2-7\n",
    "g = '\\n\\tBob\\t\\n\\n'\n",
    "print('1 '+g)\n",
    "print('2 '+g.strip())\n",
    "print('3 '+g.rstrip())\n",
    "print('4 '+g.lstrip())"
   ]
  },
  {
   "cell_type": "code",
   "execution_count": 8,
   "metadata": {},
   "outputs": [
    {
     "name": "stdout",
     "output_type": "stream",
     "text": [
      "8\n",
      "8\n",
      "8\n",
      "8\n"
     ]
    }
   ],
   "source": [
    "#2-8\n",
    "print(1+7)\n",
    "print(2*4)\n",
    "print(11-3)\n",
    "print(40//5)"
   ]
  },
  {
   "cell_type": "code",
   "execution_count": 9,
   "metadata": {},
   "outputs": [
    {
     "name": "stdout",
     "output_type": "stream",
     "text": [
      "My favourite number is 7.\n"
     ]
    }
   ],
   "source": [
    "#2-9\n",
    "h = 7\n",
    "print('My favourite number is '+str(h)+'.')"
   ]
  },
  {
   "cell_type": "code",
   "execution_count": 10,
   "metadata": {},
   "outputs": [],
   "source": [
    "#2-10\n",
    "i = 'love'\n",
    "# 将字符串‘love’赋值给变量i"
   ]
  },
  {
   "cell_type": "code",
   "execution_count": 11,
   "metadata": {},
   "outputs": [
    {
     "name": "stdout",
     "output_type": "stream",
     "text": [
      "The Zen of Python, by Tim Peters\n",
      "\n",
      "Beautiful is better than ugly.\n",
      "Explicit is better than implicit.\n",
      "Simple is better than complex.\n",
      "Complex is better than complicated.\n",
      "Flat is better than nested.\n",
      "Sparse is better than dense.\n",
      "Readability counts.\n",
      "Special cases aren't special enough to break the rules.\n",
      "Although practicality beats purity.\n",
      "Errors should never pass silently.\n",
      "Unless explicitly silenced.\n",
      "In the face of ambiguity, refuse the temptation to guess.\n",
      "There should be one-- and preferably only one --obvious way to do it.\n",
      "Although that way may not be obvious at first unless you're Dutch.\n",
      "Now is better than never.\n",
      "Although never is often better than *right* now.\n",
      "If the implementation is hard to explain, it's a bad idea.\n",
      "If the implementation is easy to explain, it may be a good idea.\n",
      "Namespaces are one honking great idea -- let's do more of those!\n"
     ]
    }
   ],
   "source": [
    "#2-11\n",
    "import this"
   ]
  },
  {
   "cell_type": "markdown",
   "metadata": {},
   "source": [
    "### 第三章 列表简介"
   ]
  },
  {
   "cell_type": "code",
   "execution_count": 12,
   "metadata": {},
   "outputs": [
    {
     "name": "stdout",
     "output_type": "stream",
     "text": [
      "ming\n",
      "gang\n",
      "hong\n",
      "qiang\n"
     ]
    }
   ],
   "source": [
    "#3-1\n",
    "names = ['ming','gang','hong','qiang']\n",
    "print(names[0])\n",
    "print(names[1])\n",
    "print(names[2])\n",
    "print(names[3])"
   ]
  },
  {
   "cell_type": "code",
   "execution_count": 13,
   "metadata": {},
   "outputs": [
    {
     "name": "stdout",
     "output_type": "stream",
     "text": [
      "hi ming\n",
      "hi gang\n",
      "hi hong\n",
      "hi qiang\n"
     ]
    }
   ],
   "source": [
    "#3-2\n",
    "names = ['ming','gang','hong','qiang']\n",
    "print('hi '+names[0])\n",
    "print('hi '+names[1])\n",
    "print('hi '+names[2])\n",
    "print('hi '+names[3])"
   ]
  },
  {
   "cell_type": "code",
   "execution_count": 14,
   "metadata": {},
   "outputs": [
    {
     "name": "stdout",
     "output_type": "stream",
     "text": [
      "Would you like to own a bicycle\n",
      "Would you like to own a motor\n",
      "Would you like to own a car\n"
     ]
    }
   ],
   "source": [
    "#3-3\n",
    "trip = ['bicycle', 'motor', 'car']\n",
    "print('Would you like to own a '+trip[0])\n",
    "print('Would you like to own a '+trip[1])\n",
    "print('Would you like to own a '+trip[2])"
   ]
  },
  {
   "cell_type": "code",
   "execution_count": 15,
   "metadata": {},
   "outputs": [
    {
     "name": "stdout",
     "output_type": "stream",
     "text": [
      "I invited you to dinner,sun\n",
      "I invited you to dinner,moon\n",
      "I invited you to dinner,star\n",
      "I invited you to dinner,mars\n"
     ]
    }
   ],
   "source": [
    "#3-4\n",
    "guest = ['sun', 'moon', 'star', 'mars']\n",
    "print('I invited you to dinner,'+ guest[0])\n",
    "print('I invited you to dinner,'+ guest[1])\n",
    "print('I invited you to dinner,'+ guest[2])\n",
    "print('I invited you to dinner,'+ guest[3])"
   ]
  },
  {
   "cell_type": "code",
   "execution_count": 16,
   "metadata": {},
   "outputs": [
    {
     "name": "stdout",
     "output_type": "stream",
     "text": [
      "Mars refused me\n",
      "I invited you to dinner,sun\n",
      "I invited you to dinner,moon\n",
      "I invited you to dinner,star\n",
      "I invited you to dinner,water\n"
     ]
    }
   ],
   "source": [
    "#3-5\n",
    "print(guest[3].title()+ ' refused me')\n",
    "guest[3] = 'water'\n",
    "print('I invited you to dinner,'+ guest[0])\n",
    "print('I invited you to dinner,'+ guest[1])\n",
    "print('I invited you to dinner,'+ guest[2])\n",
    "print('I invited you to dinner,'+ guest[3])"
   ]
  },
  {
   "cell_type": "code",
   "execution_count": 17,
   "metadata": {},
   "outputs": [
    {
     "name": "stdout",
     "output_type": "stream",
     "text": [
      "bigger table\n",
      "I invited you to dinner,tree\n",
      "I invited you to dinner,sun\n",
      "I invited you to dinner,falsh\n",
      "I invited you to dinner,moon\n",
      "I invited you to dinner,star\n",
      "I invited you to dinner,water\n",
      "I invited you to dinner,stone\n"
     ]
    }
   ],
   "source": [
    "#3-6\n",
    "print('bigger table')\n",
    "guest.insert(0,'tree')\n",
    "guest.insert(2,'falsh')\n",
    "guest.append('stone')\n",
    "print('I invited you to dinner,'+ guest[0])\n",
    "print('I invited you to dinner,'+ guest[1])\n",
    "print('I invited you to dinner,'+ guest[2])\n",
    "print('I invited you to dinner,'+ guest[3])\n",
    "print('I invited you to dinner,'+ guest[4])\n",
    "print('I invited you to dinner,'+ guest[5])\n",
    "print('I invited you to dinner,'+ guest[6])"
   ]
  },
  {
   "cell_type": "code",
   "execution_count": 18,
   "metadata": {},
   "outputs": [
    {
     "name": "stdout",
     "output_type": "stream",
     "text": [
      "table is too late\n",
      "sorry,stone\n",
      "sorry,water\n",
      "sorry,star\n",
      "sorry,moon\n",
      "sorry,falsh\n",
      "come,tree\n",
      "come,sun\n",
      "[]\n"
     ]
    }
   ],
   "source": [
    "#3-7\n",
    "print('table is too late')\n",
    "a = guest.pop()\n",
    "print('sorry,'+a)\n",
    "a = guest.pop()\n",
    "print('sorry,'+a)\n",
    "a = guest.pop()\n",
    "print('sorry,'+a)\n",
    "a = guest.pop()\n",
    "print('sorry,'+a)\n",
    "a = guest.pop()\n",
    "print('sorry,'+a)\n",
    "print('come,'+guest[0])\n",
    "print('come,'+guest[1])\n",
    "del guest[1]\n",
    "del guest[0]\n",
    "print(guest)"
   ]
  },
  {
   "cell_type": "code",
   "execution_count": 19,
   "metadata": {},
   "outputs": [
    {
     "name": "stdout",
     "output_type": "stream",
     "text": [
      "['desert', 'canyon', 'mountain', 'river', 'forest']\n",
      "********************\n",
      "['canyon', 'desert', 'forest', 'mountain', 'river']\n",
      "['desert', 'canyon', 'mountain', 'river', 'forest']\n",
      "********************\n",
      "['river', 'mountain', 'forest', 'desert', 'canyon']\n",
      "['desert', 'canyon', 'mountain', 'river', 'forest']\n",
      "********************\n",
      "['forest', 'river', 'mountain', 'canyon', 'desert']\n",
      "********************\n",
      "['desert', 'canyon', 'mountain', 'river', 'forest']\n",
      "********************\n",
      "['canyon', 'desert', 'forest', 'mountain', 'river']\n",
      "********************\n",
      "['river', 'mountain', 'forest', 'desert', 'canyon']\n"
     ]
    }
   ],
   "source": [
    "#3-8\n",
    "travel = ['desert', 'canyon', 'mountain', 'river', 'forest']\n",
    "print(travel)\n",
    "print('*'*20)\n",
    "print(sorted(travel))\n",
    "print(travel)\n",
    "print('*'*20)\n",
    "print(sorted(travel,reverse=True))\n",
    "print(travel)\n",
    "print('*'*20)\n",
    "travel.reverse()\n",
    "print(travel)\n",
    "print('*'*20)\n",
    "travel.reverse()\n",
    "print(travel)\n",
    "print('*'*20)\n",
    "travel.sort()\n",
    "print(travel)\n",
    "print('*'*20)\n",
    "travel.sort(reverse=True)\n",
    "print(travel)"
   ]
  },
  {
   "cell_type": "code",
   "execution_count": 20,
   "metadata": {},
   "outputs": [
    {
     "name": "stdout",
     "output_type": "stream",
     "text": [
      "location :5\n"
     ]
    }
   ],
   "source": [
    "#3-9\n",
    "print('location :'+str(len(travel)))"
   ]
  },
  {
   "cell_type": "code",
   "execution_count": 21,
   "metadata": {},
   "outputs": [
    {
     "name": "stdout",
     "output_type": "stream",
     "text": [
      "略\n"
     ]
    }
   ],
   "source": [
    "#3-10\n",
    "print('略')"
   ]
  },
  {
   "cell_type": "code",
   "execution_count": 22,
   "metadata": {},
   "outputs": [
    {
     "name": "stdout",
     "output_type": "stream",
     "text": [
      "略\n"
     ]
    }
   ],
   "source": [
    "#3-11\n",
    "print('略')"
   ]
  },
  {
   "cell_type": "markdown",
   "metadata": {},
   "source": [
    "### 第四章 操作列表"
   ]
  },
  {
   "cell_type": "code",
   "execution_count": 23,
   "metadata": {},
   "outputs": [
    {
     "name": "stdout",
     "output_type": "stream",
     "text": [
      "Trek\n",
      "I like Trek\n",
      "Merida\n",
      "I like Merida\n",
      "Giant\n",
      "I like Giant\n",
      "Canyon\n",
      "I like Canyon\n",
      "I really like riding\n"
     ]
    }
   ],
   "source": [
    "#4-1\n",
    "bicycles = ['Trek', 'Merida', 'Giant', 'Canyon']\n",
    "for i in bicycles:\n",
    "    print(i)\n",
    "    print('I like '+i)\n",
    "print('I really like riding')"
   ]
  },
  {
   "cell_type": "code",
   "execution_count": 24,
   "metadata": {},
   "outputs": [
    {
     "name": "stdout",
     "output_type": "stream",
     "text": [
      "cat\n",
      "cat has four legs\n",
      "dog\n",
      "dog has four legs\n",
      "pig\n",
      "pig has four legs\n",
      "cow\n",
      "cow has four legs\n",
      "all these animals have four legs\n"
     ]
    }
   ],
   "source": [
    "#4-2\n",
    "animal = ['cat', 'dog', 'pig', 'cow']\n",
    "for i in animal:\n",
    "    print(i)\n",
    "    print(i+' has four legs')\n",
    "print('all these animals have four legs')"
   ]
  },
  {
   "cell_type": "code",
   "execution_count": 25,
   "metadata": {},
   "outputs": [
    {
     "name": "stdout",
     "output_type": "stream",
     "text": [
      "1\n",
      "2\n",
      "3\n",
      "4\n",
      "5\n",
      "6\n",
      "7\n",
      "8\n",
      "9\n",
      "10\n",
      "11\n",
      "12\n",
      "13\n",
      "14\n",
      "15\n",
      "16\n",
      "17\n",
      "18\n",
      "19\n",
      "20\n"
     ]
    }
   ],
   "source": [
    "#4_3\n",
    "number = range(1,21)\n",
    "for i in number:\n",
    "    print(i)"
   ]
  },
  {
   "cell_type": "code",
   "execution_count": 26,
   "metadata": {},
   "outputs": [
    {
     "name": "stdout",
     "output_type": "stream",
     "text": [
      "略\n"
     ]
    }
   ],
   "source": [
    "#4-4\n",
    "print('略')"
   ]
  },
  {
   "cell_type": "code",
   "execution_count": 27,
   "metadata": {},
   "outputs": [
    {
     "data": {
      "text/plain": [
       "(1000000, 1, 500000500000)"
      ]
     },
     "execution_count": 27,
     "metadata": {},
     "output_type": "execute_result"
    }
   ],
   "source": [
    "#4-5\n",
    "number = list(range(1,1000001))\n",
    "max(number),min(number),sum(number)"
   ]
  },
  {
   "cell_type": "code",
   "execution_count": 28,
   "metadata": {},
   "outputs": [
    {
     "name": "stdout",
     "output_type": "stream",
     "text": [
      "1\n",
      "3\n",
      "5\n",
      "7\n",
      "9\n",
      "11\n",
      "13\n",
      "15\n",
      "17\n",
      "19\n"
     ]
    }
   ],
   "source": [
    "#4-6\n",
    "number = range(1,20,2)\n",
    "for i in number:\n",
    "    print(i)"
   ]
  },
  {
   "cell_type": "code",
   "execution_count": 29,
   "metadata": {},
   "outputs": [
    {
     "name": "stdout",
     "output_type": "stream",
     "text": [
      "3\n",
      "6\n",
      "9\n",
      "12\n",
      "15\n",
      "18\n",
      "21\n",
      "24\n",
      "27\n"
     ]
    }
   ],
   "source": [
    "#4-7\n",
    "number = range(3,30,3)\n",
    "for i in number:\n",
    "    print(i)"
   ]
  },
  {
   "cell_type": "code",
   "execution_count": 30,
   "metadata": {},
   "outputs": [
    {
     "name": "stdout",
     "output_type": "stream",
     "text": [
      "1\n",
      "4\n",
      "9\n",
      "16\n",
      "25\n",
      "36\n",
      "49\n",
      "64\n",
      "81\n",
      "100\n"
     ]
    }
   ],
   "source": [
    "#4-8\n",
    "number = range(1,11)\n",
    "for i in number:\n",
    "    print(i**2)"
   ]
  },
  {
   "cell_type": "code",
   "execution_count": 31,
   "metadata": {},
   "outputs": [
    {
     "data": {
      "text/plain": [
       "[1, 8, 27, 64, 125, 216, 343, 512, 729, 1000]"
      ]
     },
     "execution_count": 31,
     "metadata": {},
     "output_type": "execute_result"
    }
   ],
   "source": [
    "#4-9\n",
    "number = [i**3 for i in range(1,11)]\n",
    "number"
   ]
  },
  {
   "cell_type": "code",
   "execution_count": 32,
   "metadata": {},
   "outputs": [
    {
     "name": "stdout",
     "output_type": "stream",
     "text": [
      "The first three items in the list are:\n",
      "['Trek', 'Merida', 'Giant']\n",
      "The middle three items in the list are:\n",
      "['Trek', 'Merida', 'Giant']\n",
      "The last three items in the list are:\n",
      "['Merida', 'Giant', 'Canyon']\n"
     ]
    }
   ],
   "source": [
    "#4-10\n",
    "print('The first three items in the list are:')\n",
    "print(bicycles[0:3])\n",
    "print('The middle three items in the list are:')\n",
    "print(bicycles[:3])\n",
    "print('The last three items in the list are:')\n",
    "print(bicycles[-3:])"
   ]
  },
  {
   "cell_type": "code",
   "execution_count": 33,
   "metadata": {},
   "outputs": [
    {
     "name": "stdout",
     "output_type": "stream",
     "text": [
      "I likeTrek\n",
      "I likeMerida\n",
      "I likeGiant\n",
      "I likeCanyon\n",
      "I likeS_work\n",
      "She likeTrek\n",
      "She likeMerida\n",
      "She likeGiant\n",
      "She likeCanyon\n",
      "She likeCervelo\n"
     ]
    }
   ],
   "source": [
    "#4-11\n",
    "bike = bicycles[:]\n",
    "bicycles.append('S_work')\n",
    "bike.append('Cervelo')\n",
    "for i in bicycles:\n",
    "    print('I like'+i)\n",
    "for k in bike:\n",
    "    print('She like'+k)\n"
   ]
  },
  {
   "cell_type": "code",
   "execution_count": 34,
   "metadata": {},
   "outputs": [
    {
     "name": "stdout",
     "output_type": "stream",
     "text": [
      "略\n"
     ]
    }
   ],
   "source": [
    "#4-12\n",
    "print('略')"
   ]
  },
  {
   "cell_type": "code",
   "execution_count": 35,
   "metadata": {},
   "outputs": [
    {
     "name": "stdout",
     "output_type": "stream",
     "text": [
      "fish\n",
      "meat\n",
      "beef\n",
      "fruit\n",
      "fish\n",
      "pork\n",
      "beef\n",
      "vegatable\n"
     ]
    }
   ],
   "source": [
    "#4-13\n",
    "food = 'fish', 'meat', 'beef', 'fruit'\n",
    "for i in food:\n",
    "    print(i)\n",
    "food = 'fish', 'pork', 'beef', 'vegatable'\n",
    "for i in food:\n",
    "    print(i)"
   ]
  },
  {
   "cell_type": "code",
   "execution_count": 36,
   "metadata": {},
   "outputs": [
    {
     "name": "stdout",
     "output_type": "stream",
     "text": [
      "略\n"
     ]
    }
   ],
   "source": [
    "#4-14\n",
    "print('略')"
   ]
  },
  {
   "cell_type": "code",
   "execution_count": 37,
   "metadata": {},
   "outputs": [
    {
     "name": "stdout",
     "output_type": "stream",
     "text": [
      "略\n"
     ]
    }
   ],
   "source": [
    "#4-15\n",
    "print('略')"
   ]
  },
  {
   "cell_type": "markdown",
   "metadata": {},
   "source": [
    "### 第五章 if语句"
   ]
  },
  {
   "cell_type": "code",
   "execution_count": 38,
   "metadata": {},
   "outputs": [
    {
     "name": "stdout",
     "output_type": "stream",
     "text": [
      "Is bike canyon?I predict True\n",
      "True\n"
     ]
    }
   ],
   "source": [
    "#5-1\n",
    "bike = 'canyon'\n",
    "print('Is bike canyon?I predict True')\n",
    "print(bike=='canyon')"
   ]
  },
  {
   "cell_type": "code",
   "execution_count": 39,
   "metadata": {},
   "outputs": [
    {
     "name": "stdout",
     "output_type": "stream",
     "text": [
      "True False True True\n"
     ]
    }
   ],
   "source": [
    "#5-2\n",
    "a = 'ming'\n",
    "b = 'ming'\n",
    "c = a.upper()\n",
    "d = 5\n",
    "e = 6\n",
    "f = 7\n",
    "bike = ['Giant', 'Merida', 'Canyon']\n",
    "print(a==b,a==c,'Merida' in bike, e>d and e<f)"
   ]
  },
  {
   "cell_type": "code",
   "execution_count": 40,
   "metadata": {},
   "outputs": [
    {
     "name": "stdout",
     "output_type": "stream",
     "text": [
      "got five\n"
     ]
    }
   ],
   "source": [
    "#5-3\n",
    "alien = 'green'\n",
    "if alien == 'green':\n",
    "    print('got five')"
   ]
  },
  {
   "cell_type": "code",
   "execution_count": 41,
   "metadata": {},
   "outputs": [
    {
     "name": "stdout",
     "output_type": "stream",
     "text": [
      "lose\n"
     ]
    }
   ],
   "source": [
    "#5-4\n",
    "alien = 'red'\n",
    "if alien == 'green':\n",
    "    print('got five')\n",
    "else:\n",
    "    print('lose')"
   ]
  },
  {
   "cell_type": "code",
   "execution_count": 42,
   "metadata": {},
   "outputs": [
    {
     "name": "stdout",
     "output_type": "stream",
     "text": [
      "got three\n"
     ]
    }
   ],
   "source": [
    "#5-5\n",
    "alien = 'yellow'\n",
    "if alien == 'green':\n",
    "    print('got five')\n",
    "elif alien == 'yellow':\n",
    "    print('got three')\n",
    "else:\n",
    "    print('lose')"
   ]
  },
  {
   "cell_type": "code",
   "execution_count": 43,
   "metadata": {},
   "outputs": [
    {
     "name": "stdout",
     "output_type": "stream",
     "text": [
      "teen\n"
     ]
    }
   ],
   "source": [
    "#5-6\n",
    "age = 18\n",
    "if age < 2:\n",
    "    print('baby')\n",
    "elif age < 4:\n",
    "    print('kid')\n",
    "elif age < 13:\n",
    "    print('child')\n",
    "elif age < 20:\n",
    "    print('teen')\n",
    "else:\n",
    "    print('adult')"
   ]
  },
  {
   "cell_type": "code",
   "execution_count": 44,
   "metadata": {},
   "outputs": [
    {
     "name": "stdout",
     "output_type": "stream",
     "text": [
      "I like apple\n"
     ]
    }
   ],
   "source": [
    "#5-7\n",
    "fruit = ['apple', 'peach', 'Grapes']\n",
    "if 'apple' in fruit:\n",
    "    print('I like apple')\n",
    "elif 'banana' in fruit:\n",
    "    print('I like banana')\n",
    "else:\n",
    "    print('no my fruit')"
   ]
  },
  {
   "cell_type": "code",
   "execution_count": 45,
   "metadata": {},
   "outputs": [
    {
     "name": "stdout",
     "output_type": "stream",
     "text": [
      "Hello boss\n",
      "welcome ming\n",
      "welcome gang\n",
      "welcome hong\n"
     ]
    }
   ],
   "source": [
    "#5-8\n",
    "users = ['admin', 'ming', 'gang', 'hong']\n",
    "for i in users:\n",
    "    if i == 'admin':\n",
    "        print('Hello boss')\n",
    "    else:\n",
    "        print('welcome '+i)"
   ]
  },
  {
   "cell_type": "code",
   "execution_count": 46,
   "metadata": {},
   "outputs": [
    {
     "name": "stdout",
     "output_type": "stream",
     "text": [
      "no user\n"
     ]
    }
   ],
   "source": [
    "#5-9\n",
    "users = []\n",
    "if users:\n",
    "    for i in users:\n",
    "        if i=='admin':\n",
    "            print('Hello boss')\n",
    "        else:\n",
    "            print('welcome '+i)\n",
    "else:\n",
    "    print('no user')"
   ]
  },
  {
   "cell_type": "code",
   "execution_count": 47,
   "metadata": {},
   "outputs": [
    {
     "name": "stdout",
     "output_type": "stream",
     "text": [
      "available\n",
      "available\n",
      "occupied,change please\n",
      "available\n",
      "occupied,change please\n"
     ]
    }
   ],
   "source": [
    "#5-10\n",
    "now_users = ['admin', 'ming', 'gang', 'hong', 'LEE']\n",
    "current_users = ['feng', 'lin', 'lee', 'gang']\n",
    "for i in now_users:\n",
    "    if i.lower() in [k.lower() for k in current_users]:\n",
    "        print('occupied,change please')\n",
    "    else:\n",
    "        print('available')"
   ]
  },
  {
   "cell_type": "code",
   "execution_count": 48,
   "metadata": {},
   "outputs": [
    {
     "name": "stdout",
     "output_type": "stream",
     "text": [
      "1st\n",
      "2nd\n",
      "3rd\n",
      "4th\n",
      "5th\n",
      "6th\n",
      "7th\n",
      "8th\n",
      "9th\n"
     ]
    }
   ],
   "source": [
    "#5-11\n",
    "number = list(range(1,10))\n",
    "for i in number:\n",
    "    if i == 1:\n",
    "        print(str(i)+'st')\n",
    "    elif i == 2:\n",
    "        print(str(i)+'nd')\n",
    "    elif i == 3:\n",
    "        print(str(i)+'rd')\n",
    "    else:\n",
    "        print(str(i)+'th')"
   ]
  },
  {
   "cell_type": "code",
   "execution_count": 49,
   "metadata": {},
   "outputs": [
    {
     "name": "stdout",
     "output_type": "stream",
     "text": [
      "略\n"
     ]
    }
   ],
   "source": [
    "#5-12\n",
    "print('略')"
   ]
  },
  {
   "cell_type": "code",
   "execution_count": 50,
   "metadata": {},
   "outputs": [
    {
     "name": "stdout",
     "output_type": "stream",
     "text": [
      "略\n"
     ]
    }
   ],
   "source": [
    "#5-13\n",
    "print('略')"
   ]
  },
  {
   "cell_type": "markdown",
   "metadata": {},
   "source": [
    "### 第六章 字典"
   ]
  },
  {
   "cell_type": "code",
   "execution_count": 51,
   "metadata": {},
   "outputs": [
    {
     "name": "stdout",
     "output_type": "stream",
     "text": [
      "{'first_name': 'David', 'last_name': 'Fincher', 'age': 77, 'city': 'New_York'}\n"
     ]
    }
   ],
   "source": [
    "#6.1\n",
    "dic = {'first_name':'David', 'last_name':'Fincher', 'age':77, 'city':'New_York'}\n",
    "print(dic)"
   ]
  },
  {
   "cell_type": "code",
   "execution_count": 52,
   "metadata": {},
   "outputs": [
    {
     "name": "stdout",
     "output_type": "stream",
     "text": [
      "{'libai': 1, 'dufu': 2, 'wangwei': 3, 'baijuyi': 4}\n"
     ]
    }
   ],
   "source": [
    "#6.2\n",
    "dic = {'libai':1, 'dufu':2, 'wangwei':3, 'baijuyi':4}\n",
    "print(dic)"
   ]
  },
  {
   "cell_type": "code",
   "execution_count": 53,
   "metadata": {},
   "outputs": [
    {
     "name": "stdout",
     "output_type": "stream",
     "text": [
      "append:\n",
      "\t添加元素\n"
     ]
    }
   ],
   "source": [
    "#6.3\n",
    "dic = {'append':'添加元素', 'insert':'插入元素', 'pop':'弹出元素', 'sort':'排列元素'}\n",
    "print('append:\\n\\t'+dic['append'])"
   ]
  },
  {
   "cell_type": "code",
   "execution_count": 54,
   "metadata": {},
   "outputs": [
    {
     "name": "stdout",
     "output_type": "stream",
     "text": [
      "append:\n",
      "\t添加元素\n",
      "insert:\n",
      "\t插入元素\n",
      "pop:\n",
      "\t弹出元素\n",
      "sort:\n",
      "\t排列元素\n"
     ]
    }
   ],
   "source": [
    "#6-4\n",
    "for key, value in dic.items():\n",
    "    print(key+':\\n\\t'+value)"
   ]
  },
  {
   "cell_type": "code",
   "execution_count": 55,
   "metadata": {},
   "outputs": [
    {
     "name": "stdout",
     "output_type": "stream",
     "text": [
      "huanghe runs through China\n",
      "huanghe\n",
      "China\n",
      "nile runs through Egypt\n",
      "nile\n",
      "Egypt\n",
      "amazon runs through Brazil\n",
      "amazon\n",
      "Brazil\n"
     ]
    }
   ],
   "source": [
    "#6-5\n",
    "rivers = {'huanghe':'China', 'nile':'Egypt', 'amazon':'Brazil'}\n",
    "for key, value in rivers.items():\n",
    "    print(key+' runs through '+value)\n",
    "    print(key)\n",
    "    print(value)"
   ]
  },
  {
   "cell_type": "code",
   "execution_count": 56,
   "metadata": {},
   "outputs": [
    {
     "name": "stdout",
     "output_type": "stream",
     "text": [
      "thank you\n",
      "thank you\n",
      "please\n",
      "please\n"
     ]
    }
   ],
   "source": [
    "#6-6\n",
    "names = ['baiqi', 'zhangyi', 'suqin', 'wangjian']\n",
    "dic = {'baiqi':20, 'zhangyi':15}\n",
    "for i in names:\n",
    "    if i in dic.keys():\n",
    "        print('thank you')\n",
    "    else:\n",
    "        print('please')"
   ]
  },
  {
   "cell_type": "code",
   "execution_count": 57,
   "metadata": {},
   "outputs": [
    {
     "name": "stdout",
     "output_type": "stream",
     "text": [
      "baiqi:20\n",
      "zhangyi:16\n",
      "wangjian:14\n",
      "fanju:5\n",
      "libai:1\n",
      "dufu:2\n",
      "wangwei:3\n",
      "baijuyi:4\n",
      "tianwen:10\n",
      "wuji:17\n",
      "huangxie:13\n",
      "zhaosheng:11\n"
     ]
    }
   ],
   "source": [
    "#6-7\n",
    "dic1 = {'baiqi':20, 'zhangyi':16, 'wangjian':14, 'fanju':5}\n",
    "dic2 = {'libai':1, 'dufu':2, 'wangwei':3, 'baijuyi':4}\n",
    "dic3 = {'tianwen':10, 'wuji':17, 'huangxie':13, 'zhaosheng':11}\n",
    "guren = [dic1, dic2, dic3]\n",
    "for i in guren:\n",
    "    for k, g in i.items():\n",
    "        print(k+':'+str(g))"
   ]
  },
  {
   "cell_type": "code",
   "execution_count": 58,
   "metadata": {},
   "outputs": [
    {
     "name": "stdout",
     "output_type": "stream",
     "text": [
      "name:cat\n",
      "age:2\n",
      "name:dog\n",
      "age:3\n",
      "name:bird\n",
      "age:4\n"
     ]
    }
   ],
   "source": [
    "#6-8\n",
    "pet1 = {'name':'cat', 'age':2}\n",
    "pet2 = {'name':'dog', 'age':3}\n",
    "pet3 = {'name':'bird', 'age':4}\n",
    "pets = [pet1, pet2, pet3]\n",
    "for i in pets:\n",
    "    for k, g in i.items():\n",
    "        print(k+':'+str(g))"
   ]
  },
  {
   "cell_type": "code",
   "execution_count": 59,
   "metadata": {},
   "outputs": [
    {
     "name": "stdout",
     "output_type": "stream",
     "text": [
      "baiqi\n",
      "He like xianyang\n",
      "He like changping\n",
      "libai\n",
      "He like changan\n",
      "He like taohuatan\n",
      "jifa\n",
      "He like haojing\n",
      "He like qishan\n"
     ]
    }
   ],
   "source": [
    "#6-9\n",
    "place = {'baiqi':['xianyang', 'changping'], 'libai':['changan', 'taohuatan'], 'jifa':['haojing', 'qishan']}\n",
    "for i in place.keys():\n",
    "    print(i)\n",
    "    for k in place[i]:\n",
    "        print('He like '+k)"
   ]
  },
  {
   "cell_type": "code",
   "execution_count": 60,
   "metadata": {},
   "outputs": [
    {
     "name": "stdout",
     "output_type": "stream",
     "text": [
      "baiqi\n",
      "He like 1\n",
      "He like 2\n",
      "libai\n",
      "He like 3\n",
      "He like 4\n",
      "jifa\n",
      "He like 5\n",
      "He like 6\n"
     ]
    }
   ],
   "source": [
    "#6-10\n",
    "number = {'baiqi':[1, 2], 'libai':[3, 4], 'jifa':[5, 6]}\n",
    "for i in number.keys():\n",
    "    print(i)\n",
    "    for k in number[i]:\n",
    "        print('He like '+str(k))"
   ]
  },
  {
   "cell_type": "code",
   "execution_count": 61,
   "metadata": {},
   "outputs": [
    {
     "name": "stdout",
     "output_type": "stream",
     "text": [
      "changan\n",
      "country is tang\n",
      "population is 100\n",
      "beijing\n",
      "country is ming\n",
      "population is 200\n",
      "linan\n",
      "country is song\n",
      "population is 150\n"
     ]
    }
   ],
   "source": [
    "#6-11\n",
    "cities = {\n",
    "            'changan':{'country':'tang', 'population':'100'},\n",
    "            'beijing':{'country':'ming', 'population':'200'}, \n",
    "            'linan':{'country':'song', 'population':'150'}\n",
    "            }\n",
    "for i, k in cities.items():\n",
    "    print(i)\n",
    "    for m, n in k.items():\n",
    "        print(m+ ' is '+n)"
   ]
  },
  {
   "cell_type": "code",
   "execution_count": 62,
   "metadata": {},
   "outputs": [
    {
     "data": {
      "text/plain": [
       "{'changan': {'country': 'tang', 'population': '100'},\n",
       " 'beijing': {'country': 'ming', 'population': '200'},\n",
       " 'linan': {'country': 'song', 'population': '150'},\n",
       " 'luoyang': {'country': 'han', 'population': '200'}}"
      ]
     },
     "execution_count": 62,
     "metadata": {},
     "output_type": "execute_result"
    }
   ],
   "source": [
    "#6-12\n",
    "cities['luoyang'] = {'country':'han', 'population':'200'}\n",
    "cities"
   ]
  },
  {
   "cell_type": "markdown",
   "metadata": {},
   "source": [
    "### 第七章 while循环"
   ]
  },
  {
   "cell_type": "code",
   "execution_count": 63,
   "metadata": {},
   "outputs": [
    {
     "name": "stdout",
     "output_type": "stream",
     "text": [
      "which car:sabaru\n",
      "we will see sabaru\n"
     ]
    }
   ],
   "source": [
    "#7-1\n",
    "car = input('which car:')\n",
    "print('we will see '+car)"
   ]
  },
  {
   "cell_type": "code",
   "execution_count": 64,
   "metadata": {},
   "outputs": [
    {
     "name": "stdout",
     "output_type": "stream",
     "text": [
      "how many9\n",
      "no seat\n"
     ]
    }
   ],
   "source": [
    "#7-2\n",
    "num = input('how many')\n",
    "if int(num) > 8:\n",
    "    print('no seat')\n",
    "else:\n",
    "    print('ok')"
   ]
  },
  {
   "cell_type": "code",
   "execution_count": 65,
   "metadata": {},
   "outputs": [
    {
     "name": "stdout",
     "output_type": "stream",
     "text": [
      "give a number：20\n",
      "yes\n"
     ]
    }
   ],
   "source": [
    "#7-3\n",
    "num = input('give a number：')\n",
    "if int(num)%10 == 0:\n",
    "    print('yes')\n",
    "else:\n",
    "    print('please change')"
   ]
  },
  {
   "cell_type": "code",
   "execution_count": 66,
   "metadata": {},
   "outputs": [
    {
     "name": "stdout",
     "output_type": "stream",
     "text": [
      "give a fruit or quit:quit\n",
      "quit\n"
     ]
    }
   ],
   "source": [
    "#7-4\n",
    "fruit = ''\n",
    "while fruit != 'quit':\n",
    "    fruit = input('give a fruit or quit:')\n",
    "    print(fruit)"
   ]
  },
  {
   "cell_type": "code",
   "execution_count": 67,
   "metadata": {},
   "outputs": [
    {
     "name": "stdout",
     "output_type": "stream",
     "text": [
      "your age or quit:quit\n",
      "quit\n"
     ]
    }
   ],
   "source": [
    "#7-5\n",
    "age = ''\n",
    "while age != 'quit':\n",
    "    age = input('your age or quit:')\n",
    "    if age == 'quit':\n",
    "        print('quit')\n",
    "    elif int(age) < 3:\n",
    "        print('free')\n",
    "    elif int(age) < 12:\n",
    "        print(10)\n",
    "    else:\n",
    "        print(15)    "
   ]
  },
  {
   "cell_type": "code",
   "execution_count": 68,
   "metadata": {},
   "outputs": [
    {
     "name": "stdout",
     "output_type": "stream",
     "text": [
      "your age or quit:quit\n"
     ]
    }
   ],
   "source": [
    "#7-6\n",
    "age = ''\n",
    "while age != 'quit':\n",
    "    age = input('your age or quit:')\n",
    "    if age == 'quit':\n",
    "        break\n",
    "    elif int(age) < 3:\n",
    "        print('free')\n",
    "    elif int(age) < 12:\n",
    "        print(10)\n",
    "    else:\n",
    "        print(15)  "
   ]
  },
  {
   "cell_type": "code",
   "execution_count": 69,
   "metadata": {},
   "outputs": [
    {
     "name": "stdout",
     "output_type": "stream",
     "text": [
      "fruit done\n",
      "vegatable done\n",
      "beef done\n",
      "['fruit', 'vegatable', 'beef']\n",
      "all done\n"
     ]
    }
   ],
   "source": [
    "#7-8\n",
    "sandwich = ['beef', 'vegatable', 'fruit']\n",
    "finish = []\n",
    "while sandwich:\n",
    "    i = sandwich.pop()\n",
    "    print(i+' done')\n",
    "    finish.append(i)\n",
    "print(finish)\n",
    "print('all done')"
   ]
  },
  {
   "cell_type": "code",
   "execution_count": 70,
   "metadata": {},
   "outputs": [
    {
     "name": "stdout",
     "output_type": "stream",
     "text": [
      "beef out\n",
      "['vegatable', 'fruit']\n"
     ]
    }
   ],
   "source": [
    "#7-9\n",
    "sandwich = ['beef', 'vegatable', 'fruit', 'beef', 'beef']\n",
    "print('beef out')\n",
    "while 'beef' in sandwich:\n",
    "    sandwich.remove('beef')\n",
    "print(sandwich)"
   ]
  },
  {
   "cell_type": "code",
   "execution_count": 71,
   "metadata": {},
   "outputs": [
    {
     "name": "stdout",
     "output_type": "stream",
     "text": [
      "your name:ming\n",
      "your want:beijing\n",
      "others?no\n",
      "{'ming': 'beijing'}\n"
     ]
    }
   ],
   "source": [
    "#7-10\n",
    "active = True\n",
    "wish = {}\n",
    "while active:\n",
    "    name = input('your name:')\n",
    "    place = input('your want:')\n",
    "    wish[name] = place\n",
    "    again = input('others?')\n",
    "    if again == 'no':\n",
    "        active = False\n",
    "print(wish)   "
   ]
  },
  {
   "cell_type": "markdown",
   "metadata": {},
   "source": [
    "### 第八章 函数"
   ]
  },
  {
   "cell_type": "code",
   "execution_count": 72,
   "metadata": {},
   "outputs": [
    {
     "name": "stdout",
     "output_type": "stream",
     "text": [
      "python\n"
     ]
    }
   ],
   "source": [
    "#8-1\n",
    "def display_message():\n",
    "    print('python')\n",
    "display_message()"
   ]
  },
  {
   "cell_type": "code",
   "execution_count": 73,
   "metadata": {},
   "outputs": [
    {
     "name": "stdout",
     "output_type": "stream",
     "text": [
      " my favorite book is Gone with the wind\n"
     ]
    }
   ],
   "source": [
    "#8-2\n",
    "def favorite_book(title):\n",
    "    print(' my favorite book is '+title)\n",
    "favorite_book('Gone with the wind')"
   ]
  },
  {
   "cell_type": "code",
   "execution_count": 74,
   "metadata": {},
   "outputs": [
    {
     "name": "stdout",
     "output_type": "stream",
     "text": [
      "the shirt is 99 with world\n",
      "the shirt is 39 with python\n"
     ]
    },
    {
     "data": {
      "text/plain": [
       "(None, None)"
      ]
     },
     "execution_count": 74,
     "metadata": {},
     "output_type": "execute_result"
    }
   ],
   "source": [
    "#8-3\n",
    "def make_shirt(size,sign):\n",
    "    print('the shirt is '+str(size)+' with '+sign)\n",
    "make_shirt(99,'world'),make_shirt(sign='python', size=39)"
   ]
  },
  {
   "cell_type": "code",
   "execution_count": 75,
   "metadata": {},
   "outputs": [
    {
     "name": "stdout",
     "output_type": "stream",
     "text": [
      "the shirt is big with love\n",
      "the shirt is middle with love\n",
      "the shirt is big with flash\n"
     ]
    },
    {
     "data": {
      "text/plain": [
       "(None, None, None)"
      ]
     },
     "execution_count": 75,
     "metadata": {},
     "output_type": "execute_result"
    }
   ],
   "source": [
    "#8-4\n",
    "def make_shirt(size='big',sign='love'):\n",
    "    print('the shirt is '+size+' with '+sign)\n",
    "make_shirt(), make_shirt(size='middle'), make_shirt(sign='flash')"
   ]
  },
  {
   "cell_type": "code",
   "execution_count": 76,
   "metadata": {},
   "outputs": [
    {
     "name": "stdout",
     "output_type": "stream",
     "text": [
      "beijing is in China\n",
      "shanghai is in China\n",
      "tokyo is in japan\n"
     ]
    },
    {
     "data": {
      "text/plain": [
       "(None, None, None)"
      ]
     },
     "execution_count": 76,
     "metadata": {},
     "output_type": "execute_result"
    }
   ],
   "source": [
    "#8-5\n",
    "def describe_city(city, country='China'):\n",
    "    print(city+' is in '+country)\n",
    "describe_city('beijing'), describe_city('shanghai'), describe_city('tokyo', 'japan')"
   ]
  },
  {
   "cell_type": "code",
   "execution_count": 77,
   "metadata": {},
   "outputs": [
    {
     "data": {
      "text/plain": [
       "('beijing,China', 'shanghai,China', 'paris,france')"
      ]
     },
     "execution_count": 77,
     "metadata": {},
     "output_type": "execute_result"
    }
   ],
   "source": [
    "#8-6\n",
    "def city_country(city, country):\n",
    "    a = city +','+country\n",
    "    return a\n",
    "city_country('beijing','China'), city_country('shanghai','China'), city_country('paris', 'france')"
   ]
  },
  {
   "cell_type": "code",
   "execution_count": 78,
   "metadata": {},
   "outputs": [
    {
     "data": {
      "text/plain": [
       "({'zhoujielun': 'zhoujielun', 'daoxiang': 'daoxiang'},\n",
       " {'wangfei': 'wangfei', 'hongdou': 'hongdou', '3': '3'})"
      ]
     },
     "execution_count": 78,
     "metadata": {},
     "output_type": "execute_result"
    }
   ],
   "source": [
    "#8-7\n",
    "def make_aublm(sing, name, num=''):\n",
    "    if num == '':\n",
    "        a = {sing:sing, name:name}\n",
    "    else :\n",
    "        a = {sing:sing, name:name, num:num}\n",
    "    return a\n",
    "make_aublm('zhoujielun', 'daoxiang'), make_aublm('wangfei', 'hongdou', '3')"
   ]
  },
  {
   "cell_type": "code",
   "execution_count": 79,
   "metadata": {},
   "outputs": [
    {
     "name": "stdout",
     "output_type": "stream",
     "text": [
      "give sing:jay\n",
      "give name:qilixiang\n",
      "give num:2\n",
      "give other?no\n"
     ]
    }
   ],
   "source": [
    "#8-8\n",
    "active = True\n",
    "while active:\n",
    "    sing = input('give sing:')\n",
    "    name = input('give name:')\n",
    "    num = input('give num:')\n",
    "    make_aublm(sing, name, num)\n",
    "    again = input('give other?')\n",
    "    if again == 'no':\n",
    "        active = False"
   ]
  },
  {
   "cell_type": "code",
   "execution_count": 80,
   "metadata": {},
   "outputs": [
    {
     "name": "stdout",
     "output_type": "stream",
     "text": [
      "alex\n",
      "kim\n",
      "frank\n",
      "hook\n"
     ]
    }
   ],
   "source": [
    "#8-9\n",
    "magicians = ['alex', 'kim', 'frank', 'hook']\n",
    "def show_magic(name):\n",
    "    for i in name:\n",
    "        print(i)\n",
    "show_magic(magicians)"
   ]
  },
  {
   "cell_type": "code",
   "execution_count": 81,
   "metadata": {},
   "outputs": [
    {
     "name": "stdout",
     "output_type": "stream",
     "text": [
      "the great alex\n",
      "the great kim\n",
      "the great frank\n",
      "the great hook\n"
     ]
    }
   ],
   "source": [
    "#8-10\n",
    "def make_great(names):\n",
    "    n = 0\n",
    "    for i in names:\n",
    "        names[n] = 'the great '+ i\n",
    "        n += 1\n",
    "    return names\n",
    "show_magic(make_great(magicians))"
   ]
  },
  {
   "cell_type": "code",
   "execution_count": 82,
   "metadata": {},
   "outputs": [
    {
     "name": "stdout",
     "output_type": "stream",
     "text": [
      "alex\n",
      "kim\n",
      "frank\n",
      "hook\n",
      "the great alex\n",
      "the great kim\n",
      "the great frank\n",
      "the great hook\n"
     ]
    },
    {
     "data": {
      "text/plain": [
       "(None, None)"
      ]
     },
     "execution_count": 82,
     "metadata": {},
     "output_type": "execute_result"
    }
   ],
   "source": [
    "#8-11\n",
    "magicians = ['alex', 'kim', 'frank', 'hook']\n",
    "new_magic = make_great(magicians[:])\n",
    "show_magic(magicians), show_magic(new_magic)"
   ]
  },
  {
   "cell_type": "code",
   "execution_count": 83,
   "metadata": {},
   "outputs": [
    {
     "name": "stdout",
     "output_type": "stream",
     "text": [
      "you add beef\n",
      "you add fruit\n"
     ]
    }
   ],
   "source": [
    "#8-12\n",
    "def sandwichs(*food):\n",
    "    for i in food:\n",
    "        print('you add '+i)\n",
    "sandwichs('beef', 'fruit')"
   ]
  },
  {
   "cell_type": "code",
   "execution_count": 84,
   "metadata": {},
   "outputs": [
    {
     "name": "stdout",
     "output_type": "stream",
     "text": [
      "frank_underwood\n",
      "job:president\n",
      "location:wasington\n"
     ]
    }
   ],
   "source": [
    "#8-13\n",
    "def introduction(first_name, last_name, **message):\n",
    "    print(first_name+ '_'+last_name)\n",
    "    for key, value in message.items():\n",
    "        print(key+':'+value)\n",
    "introduction('frank', 'underwood', job='president', location='wasington')"
   ]
  },
  {
   "cell_type": "code",
   "execution_count": 85,
   "metadata": {},
   "outputs": [
    {
     "name": "stdout",
     "output_type": "stream",
     "text": [
      "sabaru_outback\n",
      "color:blue\n",
      "two_package:True\n"
     ]
    }
   ],
   "source": [
    "#8-14\n",
    "def make_car(brand, style, **message):\n",
    "    print(brand+ '_'+style)\n",
    "    for key, value in message.items():\n",
    "        print(key+':'+value)\n",
    "make_car('sabaru', 'outback', color='blue', two_package='True')"
   ]
  },
  {
   "cell_type": "code",
   "execution_count": 86,
   "metadata": {},
   "outputs": [
    {
     "name": "stdout",
     "output_type": "stream",
     "text": [
      "略\n"
     ]
    }
   ],
   "source": [
    "#8-15\n",
    "print('略')"
   ]
  },
  {
   "cell_type": "code",
   "execution_count": 87,
   "metadata": {},
   "outputs": [
    {
     "name": "stdout",
     "output_type": "stream",
     "text": [
      "略\n"
     ]
    }
   ],
   "source": [
    "#8-16\n",
    "print('略')"
   ]
  },
  {
   "cell_type": "code",
   "execution_count": 88,
   "metadata": {},
   "outputs": [
    {
     "name": "stdout",
     "output_type": "stream",
     "text": [
      "略\n"
     ]
    }
   ],
   "source": [
    "#8-17\n",
    "print('略')"
   ]
  },
  {
   "cell_type": "markdown",
   "metadata": {},
   "source": [
    "### 第九章 类"
   ]
  },
  {
   "cell_type": "code",
   "execution_count": 89,
   "metadata": {},
   "outputs": [
    {
     "name": "stdout",
     "output_type": "stream",
     "text": [
      "huoguo\n",
      "hot\n",
      "huoguo hot\n",
      "now is open\n"
     ]
    },
    {
     "data": {
      "text/plain": [
       "(None, None)"
      ]
     },
     "execution_count": 89,
     "metadata": {},
     "output_type": "execute_result"
    }
   ],
   "source": [
    "#9-1\n",
    "class Restaurant():\n",
    "    def __init__(self, name, cuisine_type):\n",
    "        self.name = name\n",
    "        self.cuisine_type = cuisine_type\n",
    "    def describe_restaurant(self):\n",
    "        print(self.name, self.cuisine_type)\n",
    "    def open_restaurant(self):\n",
    "        print('now is open')\n",
    "\n",
    "huoguo = Restaurant('huoguo', 'hot')\n",
    "print(huoguo.name)\n",
    "print(huoguo.cuisine_type)\n",
    "huoguo.describe_restaurant(), huoguo.open_restaurant()        "
   ]
  },
  {
   "cell_type": "code",
   "execution_count": 90,
   "metadata": {},
   "outputs": [
    {
     "name": "stdout",
     "output_type": "stream",
     "text": [
      "kaoyu\n",
      "fish\n",
      "kaoyu fish\n",
      "now is open\n"
     ]
    },
    {
     "data": {
      "text/plain": [
       "(None, None)"
      ]
     },
     "execution_count": 90,
     "metadata": {},
     "output_type": "execute_result"
    }
   ],
   "source": [
    "#9-2\n",
    "kaoyu = Restaurant('kaoyu', 'fish')\n",
    "print(kaoyu.name)\n",
    "print(kaoyu.cuisine_type)\n",
    "kaoyu.describe_restaurant(), kaoyu.open_restaurant()"
   ]
  },
  {
   "cell_type": "code",
   "execution_count": 91,
   "metadata": {},
   "outputs": [
    {
     "name": "stdout",
     "output_type": "stream",
     "text": [
      "name:bruce-lee\n",
      "sex:male\n",
      "age:23\n",
      "hello,bruce\n"
     ]
    },
    {
     "data": {
      "text/plain": [
       "(None, None)"
      ]
     },
     "execution_count": 91,
     "metadata": {},
     "output_type": "execute_result"
    }
   ],
   "source": [
    "#9-3\n",
    "class User():\n",
    "    def __init__(self, first_name, last_name, sex, age):\n",
    "        self.first_name = first_name\n",
    "        self.last_name = last_name\n",
    "        self.sex = sex\n",
    "        self.age = age\n",
    "    def describe_user(self):\n",
    "        print('name:'+self.first_name+'-'+self.last_name+'\\nsex:'+self.sex+'\\nage:'+self.age)\n",
    "    def greet_user(self):\n",
    "        print('hello,'+ self.first_name)\n",
    "\n",
    "user1 = User('bruce', 'lee', 'male', '23')\n",
    "user1.describe_user(), user1.greet_user()"
   ]
  },
  {
   "cell_type": "code",
   "execution_count": 92,
   "metadata": {},
   "outputs": [
    {
     "name": "stdout",
     "output_type": "stream",
     "text": [
      "0\n",
      "10\n",
      "30\n"
     ]
    }
   ],
   "source": [
    "#9-4\n",
    "class Restaurant():\n",
    "    def __init__(self, name, cuisine_type):\n",
    "        self.name = name\n",
    "        self.cuisine_type = cuisine_type\n",
    "        self.number_served = 0\n",
    "    def describe_restaurant(self):\n",
    "        print(self.name, self.cuisine_type)\n",
    "    def open_restaurant(self):\n",
    "        print('now is open')\n",
    "    def set_number_served(self, num_guest):\n",
    "        self.number_served = num_guest\n",
    "    def incre_number_served(self, incre_guest):\n",
    "        self.number_served += incre_guest\n",
    "\n",
    "res = Restaurant('kaoyu', 'fish')\n",
    "print(res.number_served)\n",
    "res.set_number_served(10)\n",
    "print(res.number_served)\n",
    "res.incre_number_served(20)\n",
    "print(res.number_served)"
   ]
  },
  {
   "cell_type": "code",
   "execution_count": 93,
   "metadata": {},
   "outputs": [
    {
     "name": "stdout",
     "output_type": "stream",
     "text": [
      "1\n",
      "2\n",
      "3\n",
      "0\n"
     ]
    }
   ],
   "source": [
    "#9-5\n",
    "class User():\n",
    "    def __init__(self, first_name, last_name, sex, age):\n",
    "        self.first_name = first_name\n",
    "        self.last_name = last_name\n",
    "        self.sex = sex\n",
    "        self.age = age\n",
    "        self.login_attempts = 0\n",
    "    def describe_user(self):\n",
    "        print('name:'+self.first_name+'-'+self.last_name+'\\nsex:'+self.sex+'\\nage:'+self.age)\n",
    "    def greet_user(self):\n",
    "        print('hello,'+ self.first_name)\n",
    "    def incre_login_attempts(self):\n",
    "        self.login_attempts += 1\n",
    "    def reset_login_attempts(self):\n",
    "        self.login_attempts = 0\n",
    "\n",
    "user2 = User('gang', 'li', 'male', '55')\n",
    "user2.incre_login_attempts()\n",
    "print(user2.login_attempts)\n",
    "user2.incre_login_attempts()\n",
    "print(user2.login_attempts)\n",
    "user2.incre_login_attempts()\n",
    "print(user2.login_attempts)\n",
    "user2.reset_login_attempts()\n",
    "print(user2.login_attempts)"
   ]
  },
  {
   "cell_type": "code",
   "execution_count": 94,
   "metadata": {},
   "outputs": [
    {
     "data": {
      "text/plain": [
       "<bound method IcecreamStand.show_flavors of <__main__.IcecreamStand object at 0x0000028970029B20>>"
      ]
     },
     "execution_count": 94,
     "metadata": {},
     "output_type": "execute_result"
    }
   ],
   "source": [
    "#9-6\n",
    "class IcecreamStand(Restaurant):\n",
    "    def __init__(self, name, cuisine_type):\n",
    "        super().__init__(name, cuisine_type,)\n",
    "        self.flavors = ['apple', 'peach', 'banana']\n",
    "    def show_flavors(self):\n",
    "        for i in self.flavors:\n",
    "            print(i)\n",
    "            \n",
    "ice1 = IcecreamStand('iceice', 'milk')\n",
    "ice1.show_flavors"
   ]
  },
  {
   "cell_type": "code",
   "execution_count": 95,
   "metadata": {},
   "outputs": [
    {
     "name": "stdout",
     "output_type": "stream",
     "text": [
      "can add post\n",
      "can deletew post\n",
      "can ban user\n"
     ]
    }
   ],
   "source": [
    "#9-7\n",
    "class Admin(User):\n",
    "    def __init__(self, first_name, last_name, sex, age):\n",
    "        super().__init__(first_name, last_name, sex, age)\n",
    "        self.privileges = ['can add post', 'can deletew post', 'can ban user']\n",
    "    def show_privileges(self):\n",
    "        for i in self.privileges:\n",
    "            print(i)\n",
    "            \n",
    "admin1 = Admin('conan', 'detective', 'male', '7')\n",
    "admin1.show_privileges()"
   ]
  },
  {
   "cell_type": "code",
   "execution_count": 96,
   "metadata": {},
   "outputs": [
    {
     "name": "stdout",
     "output_type": "stream",
     "text": [
      "can add post\n",
      "can deletew post\n",
      "can ban user\n"
     ]
    }
   ],
   "source": [
    "#9-8\n",
    "class Privilege():\n",
    "    def __init__(self):\n",
    "        self.privileges = ['can add post', 'can deletew post', 'can ban user']\n",
    "\n",
    "class Admin(User):\n",
    "    def __init__(self, first_name, last_name, sex, age):\n",
    "        super().__init__(first_name, last_name, sex, age)\n",
    "        self.privileges = Privilege().privileges\n",
    "    def show_privileges(self):\n",
    "        for i in self.privileges:\n",
    "            print(i)\n",
    "\n",
    "admin1 = Admin('conan', 'detective', 'male', '7')\n",
    "admin1.show_privileges()"
   ]
  },
  {
   "cell_type": "code",
   "execution_count": 97,
   "metadata": {},
   "outputs": [
    {
     "name": "stdout",
     "output_type": "stream",
     "text": [
      "240\n",
      "270\n"
     ]
    }
   ],
   "source": [
    "#9-9\n",
    "class Car():\n",
    "    def __init__(self, make, model, year):\n",
    "        self.make = make\n",
    "        self.model = model\n",
    "        self.year = year\n",
    "    def get_describe(self):\n",
    "        print('make:'+self.make+'\\nmodel:'+self.model+'\\nyear:'+self.year)\n",
    "        \n",
    "class Battery():\n",
    "    def __init__(self, size=70):\n",
    "        self.size = size\n",
    "    def upgrade(self):\n",
    "        if self.size == 85:\n",
    "            self.size = self.size\n",
    "        else:\n",
    "            self.size = 85\n",
    "    def get_range(self):\n",
    "        if self.size == 70:\n",
    "            drive_range = 240\n",
    "        elif self.size == 85:\n",
    "            drive_range = 270\n",
    "        print(drive_range)\n",
    "\n",
    "class E_car(Car):\n",
    "    def __init__(self, make, model, year):\n",
    "        super().__init__(make, model ,year)\n",
    "        self.battery = Battery()\n",
    "\n",
    "car1 = E_car('Tesla', 'Model_S', '2020')\n",
    "car1.battery.get_range()\n",
    "car1.battery.upgrade()\n",
    "car1.battery.get_range()"
   ]
  },
  {
   "cell_type": "code",
   "execution_count": 98,
   "metadata": {},
   "outputs": [
    {
     "name": "stdout",
     "output_type": "stream",
     "text": [
      "略\n"
     ]
    }
   ],
   "source": [
    "#9-10\n",
    "print('略')"
   ]
  },
  {
   "cell_type": "code",
   "execution_count": 99,
   "metadata": {},
   "outputs": [
    {
     "name": "stdout",
     "output_type": "stream",
     "text": [
      "略\n"
     ]
    }
   ],
   "source": [
    "#9-11\n",
    "print('略')"
   ]
  },
  {
   "cell_type": "code",
   "execution_count": 100,
   "metadata": {},
   "outputs": [
    {
     "name": "stdout",
     "output_type": "stream",
     "text": [
      "略\n"
     ]
    }
   ],
   "source": [
    "#9-12\n",
    "print('略')"
   ]
  },
  {
   "cell_type": "code",
   "execution_count": 101,
   "metadata": {},
   "outputs": [
    {
     "name": "stdout",
     "output_type": "stream",
     "text": [
      "1\n",
      "\tc\n",
      "2\n",
      "\tpython\n",
      "3\n",
      "\tjava\n"
     ]
    }
   ],
   "source": [
    "#9-13\n",
    "from collections import OrderedDict\n",
    "OD = OrderedDict()\n",
    "OD['1'] = 'c'\n",
    "OD['2'] = 'python'\n",
    "OD['3'] = 'java'\n",
    "for key, value in OD.items():\n",
    "    print(key+'\\n\\t'+value)"
   ]
  },
  {
   "cell_type": "code",
   "execution_count": 102,
   "metadata": {},
   "outputs": [
    {
     "name": "stdout",
     "output_type": "stream",
     "text": [
      "[4, 3, 2, 4, 6, 1, 6, 3, 5, 6]\n",
      "[8, 2, 2, 7, 10, 9, 9, 1, 7, 9]\n",
      "[8, 6, 12, 8, 20, 17, 10, 20, 3, 3]\n"
     ]
    }
   ],
   "source": [
    "#9-14\n",
    "class Die():\n",
    "    def __init__(self, side=6):\n",
    "        self.side = side\n",
    "    def roll_die(self):\n",
    "        from random import randint\n",
    "        num = randint(1,self.side)\n",
    "        return num\n",
    "\n",
    "die1 = Die(6)\n",
    "die2 = Die(10)\n",
    "die3 = Die(20)\n",
    "dies = [die1, die2, die3]\n",
    "for i in dies:\n",
    "    result = []\n",
    "    for k in range(10):\n",
    "        x = i.roll_die()\n",
    "        result.append(x)\n",
    "    print(result)"
   ]
  },
  {
   "cell_type": "markdown",
   "metadata": {},
   "source": [
    "### 第十章 文件异常"
   ]
  },
  {
   "cell_type": "code",
   "execution_count": 103,
   "metadata": {},
   "outputs": [
    {
     "name": "stdout",
     "output_type": "stream",
     "text": [
      "略\n"
     ]
    }
   ],
   "source": [
    "print('略')"
   ]
  },
  {
   "cell_type": "markdown",
   "metadata": {},
   "source": [
    "### 第十一章 测试代码"
   ]
  },
  {
   "cell_type": "code",
   "execution_count": 104,
   "metadata": {},
   "outputs": [
    {
     "name": "stdout",
     "output_type": "stream",
     "text": [
      "略\n"
     ]
    }
   ],
   "source": [
    "print('略')"
   ]
  },
  {
   "cell_type": "markdown",
   "metadata": {},
   "source": [
    "## 第二部分 项目"
   ]
  },
  {
   "cell_type": "code",
   "execution_count": 105,
   "metadata": {},
   "outputs": [
    {
     "name": "stdout",
     "output_type": "stream",
     "text": [
      "略\n"
     ]
    }
   ],
   "source": [
    "print('略')"
   ]
  },
  {
   "cell_type": "markdown",
   "metadata": {},
   "source": [
    "# 二、利用python进行数据分析"
   ]
  },
  {
   "cell_type": "code",
   "execution_count": null,
   "metadata": {},
   "outputs": [],
   "source": []
  }
 ],
 "metadata": {
  "kernelspec": {
   "display_name": "Python 3",
   "language": "python",
   "name": "python3"
  },
  "language_info": {
   "codemirror_mode": {
    "name": "ipython",
    "version": 3
   },
   "file_extension": ".py",
   "mimetype": "text/x-python",
   "name": "python",
   "nbconvert_exporter": "python",
   "pygments_lexer": "ipython3",
   "version": "3.8.5"
  }
 },
 "nbformat": 4,
 "nbformat_minor": 4
}
